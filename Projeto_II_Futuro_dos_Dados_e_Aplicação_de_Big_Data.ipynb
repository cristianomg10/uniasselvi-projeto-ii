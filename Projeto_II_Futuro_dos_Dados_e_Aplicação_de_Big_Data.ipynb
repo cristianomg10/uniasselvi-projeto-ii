{
  "nbformat": 4,
  "nbformat_minor": 0,
  "metadata": {
    "colab": {
      "provenance": [],
      "collapsed_sections": [
        "QMgWAQQnqanj"
      ],
      "toc_visible": true,
      "machine_shape": "hm",
      "mount_file_id": "18V4p5QMh0Dd0pdsyeFzuyNh3TJEdXoYB",
      "authorship_tag": "ABX9TyP60j97cms3KV8cjIAvb/Ej",
      "include_colab_link": true
    },
    "kernelspec": {
      "name": "python3",
      "display_name": "Python 3"
    },
    "language_info": {
      "name": "python"
    },
    "accelerator": "GPU",
    "gpuClass": "premium"
  },
  "cells": [
    {
      "cell_type": "markdown",
      "metadata": {
        "id": "view-in-github",
        "colab_type": "text"
      },
      "source": [
        "<a href=\"https://colab.research.google.com/github/cristianomg10/uniasselvi-projeto-ii/blob/etapa-2/Projeto_II_Futuro_dos_Dados_e_Aplica%C3%A7%C3%A3o_de_Big_Data.ipynb\" target=\"_parent\"><img src=\"https://colab.research.google.com/assets/colab-badge.svg\" alt=\"Open In Colab\"/></a>"
      ]
    },
    {
      "cell_type": "markdown",
      "source": [
        "# Projeto II - Futuro dos Dados e Aplicação de Big Data\n",
        "\n",
        "**Estudante:** Cristiano M. Garcia (2874011)\n",
        "\n",
        "**Curso:** Big Data e Inteligência Analítica"
      ],
      "metadata": {
        "id": "mxHu1bi9m2X7"
      }
    },
    {
      "cell_type": "markdown",
      "source": [
        "## Introdução e Fundamentação Teórica"
      ],
      "metadata": {
        "id": "63KjSYbbnB12"
      }
    },
    {
      "cell_type": "markdown",
      "source": [
        ">### Definição do Tema\n",
        "\n",
        "A Análise de Sentimentos é uma atividade primordial para instituições que queiram acompanhar e entender melhor a opinião de seus clientes sobre produtos ou serviços oferecidos.\n",
        "\n",
        "A Análise de Sentimentos permite o entendimento de emoções de clientes, suas necessidades, podendo gerar informações para melhoridas de produtos e de experiência do cliente com os serviços prestados (ou consumidos).\n",
        "\n"
      ],
      "metadata": {
        "id": "kC6RgezBnIxO"
      }
    },
    {
      "cell_type": "markdown",
      "source": [
        ">### Objetivo\n",
        "\n",
        "O objetivo deste projeto é a geração de um modelo de classificação de estrelas do conjunto de dados do **Yelp Dataset**. Em outras palavras, a ideia é gerar um classificador que seja capaz de, a partir de um *review* de usuário e outras características, categorizar o texto em uma das 5 categorias disponíveis, que correspondem a **número de estrelas, variando de 1 a 5**."
      ],
      "metadata": {
        "id": "t2YG1tcbv5Sb"
      }
    },
    {
      "cell_type": "markdown",
      "source": [
        ">### Especificação Técnica\n",
        "\n",
        ">#### Conjunto de dados\n",
        "\n",
        "O conjunto de dados foi obtido do site https://www.yelp.com/dataset. O conjunto de dados possui quase 7 milhões de *reviews*, proveniente de mais de 150 mil negócios nos EUA.\n",
        "\n",
        "Este conjunto de dados possui diversas colunas, entre elas: \n",
        "* ***Review***, correspondendo à postagem;\n",
        "* **Data do *review***, correspondendo à data de postagem no formato aaaa-mm-dd;\n",
        "* **Número de estrelas**, variando de 1 a 5;\n",
        "* **ID do negócio** correspondente ao *review*;\n",
        "* **Estado** de localização do negócio, correspondendo aos estados dos EUA.\n",
        "\n",
        "Como hipótese inicial, têm-se que o campos **review, data e número de estrelas** podem ser úteis. O review é o que será classificado, a data pode ajudar pois o padrão de escrita é modificado ao longo do tempo de forma não-intencional pelas pessoas, enquanto o número de estrelas será a categoria (classe). \n",
        "\n",
        ">#### Métricas\n",
        "\n",
        "Os dados, considerando as classes, está desbalanceado, o que torna necessária a aplicação de métricas para considerar o desbalanceamento. Sendo assim, as métricas a serem utilizadas são as métricas:\n",
        "\n",
        "* Acurácia; \n",
        "* F1-Score;\n",
        "* Cohen's Kappa, que mede o índice de concordância entre 2 avaliadores (número real de estrelas, e o número de estrelas predito pelo classificador).\n",
        "\n",
        ">#### Classificadores\n",
        "\n",
        "Considerando a quantidade de dados disponíveis nesse conjunto de dados, uma extração de características utilizando **Bag-of-Words** pode gerar dados muito esparsos e de alta dimensionalidade (característica natural de representação de textos). Dessa forma, é pretendido usar 2 classificadores: \n",
        "\n",
        "* Support Vector Machine (SVM), com Bag-of-Words. SVM é conhecido por sua habilidade de lidar bem com dados de alta dimensionalidade;\n",
        "* Redes Neurais Artificiais, com Embeddings e usando LSTM.\n",
        "\n",
        ">#### Pré-processamento\n",
        "\n",
        "Como métodos de pré-processamento, será usado stemming. Para o SVM, serão removidas as stopwords.\n",
        "\n",
        ">#### Bibliotecas\n",
        "\n",
        "Pretende-se usar neste projeto as bibliotecas Sci-kit Learn e Keras.\n"
      ],
      "metadata": {
        "id": "sbd2ChJb2OnR"
      }
    },
    {
      "cell_type": "markdown",
      "source": [
        ">### Metodologia\n",
        "\n",
        "A metodologia seguirá os seguintes passos, conforme alguns pontos já mencionados acima:\n",
        "\n",
        "* Pré-processamento;\n",
        "* Treinamento dos modelos;\n",
        "* Avaliação seguindo os critérios definidos.\n",
        "\n",
        "Para o SVM, será utilizado:\n",
        "* Transformação para minúsculo;\n",
        "* Remoção de stopwords e pontuação;\n",
        "* Stemming;\n",
        "* Uso de bag-of-words.\n",
        "\n",
        "Para a Rede Neural, será utilizado:\n",
        "* Transformação para minúsculo.\n",
        "\n",
        "A remoção de stopwords não favorece os embeddings pois os embeddings são gerados a partir das palavras e associações com suas respectivas palavras vizinhas.\n"
      ],
      "metadata": {
        "id": "tGKRDBr-_oir"
      }
    },
    {
      "cell_type": "markdown",
      "source": [
        "## Carregamento do Dataset e Bibliotecas"
      ],
      "metadata": {
        "id": "-4NvaawmWLrZ"
      }
    },
    {
      "cell_type": "markdown",
      "source": [
        "Foram carregados apenas 100k registros devido a limitações de memória."
      ],
      "metadata": {
        "id": "9pWvOagUn_mW"
      }
    },
    {
      "cell_type": "code",
      "source": [
        "!unzip /content/drive/MyDrive/Datasets/yelp_review_own.zip"
      ],
      "metadata": {
        "id": "g_OEcH7iWmri",
        "outputId": "ad10fa17-7d72-432a-f3e3-9e296bcc94a7",
        "colab": {
          "base_uri": "https://localhost:8080/"
        }
      },
      "execution_count": null,
      "outputs": [
        {
          "output_type": "stream",
          "name": "stdout",
          "text": [
            "Archive:  /content/drive/MyDrive/Datasets/yelp_review_own.zip\n",
            "  inflating: saida.csv               \n"
          ]
        }
      ]
    },
    {
      "cell_type": "code",
      "source": [
        "import pandas as pd\n",
        "\n",
        "df = pd.read_csv(\"saida.csv\").sample(100000).sort_index()\n",
        "df.head()"
      ],
      "metadata": {
        "id": "WdE3eI0JWQOE",
        "outputId": "a6949a68-8fe2-45bd-cefe-713d0f966e0f",
        "colab": {
          "base_uri": "https://localhost:8080/",
          "height": 206
        }
      },
      "execution_count": null,
      "outputs": [
        {
          "output_type": "execute_result",
          "data": {
            "text/plain": [
              "     year_review  stars                                               text  \\\n",
              "33          2005    4.0  Delicious deep dish Chicago-styled pizza. The ...   \n",
              "35          2005    5.0  British tea time! The perfect place for us gir...   \n",
              "79          2005    1.0  I once went to this Gavi and it was fine.  Sec...   \n",
              "120         2005    4.0  Delicious sandwiches, great pizzas, decent sid...   \n",
              "214         2005    3.0  Soooooooo much better than Jamba.  I heart the...   \n",
              "\n",
              "     useful state  \n",
              "33        0    AZ  \n",
              "35        1    AZ  \n",
              "79        0    AZ  \n",
              "120       0    MO  \n",
              "214       0    NV  "
            ],
            "text/html": [
              "\n",
              "  <div id=\"df-cc8912c0-9f80-4681-bfcf-b36c4392411d\">\n",
              "    <div class=\"colab-df-container\">\n",
              "      <div>\n",
              "<style scoped>\n",
              "    .dataframe tbody tr th:only-of-type {\n",
              "        vertical-align: middle;\n",
              "    }\n",
              "\n",
              "    .dataframe tbody tr th {\n",
              "        vertical-align: top;\n",
              "    }\n",
              "\n",
              "    .dataframe thead th {\n",
              "        text-align: right;\n",
              "    }\n",
              "</style>\n",
              "<table border=\"1\" class=\"dataframe\">\n",
              "  <thead>\n",
              "    <tr style=\"text-align: right;\">\n",
              "      <th></th>\n",
              "      <th>year_review</th>\n",
              "      <th>stars</th>\n",
              "      <th>text</th>\n",
              "      <th>useful</th>\n",
              "      <th>state</th>\n",
              "    </tr>\n",
              "  </thead>\n",
              "  <tbody>\n",
              "    <tr>\n",
              "      <th>33</th>\n",
              "      <td>2005</td>\n",
              "      <td>4.0</td>\n",
              "      <td>Delicious deep dish Chicago-styled pizza. The ...</td>\n",
              "      <td>0</td>\n",
              "      <td>AZ</td>\n",
              "    </tr>\n",
              "    <tr>\n",
              "      <th>35</th>\n",
              "      <td>2005</td>\n",
              "      <td>5.0</td>\n",
              "      <td>British tea time! The perfect place for us gir...</td>\n",
              "      <td>1</td>\n",
              "      <td>AZ</td>\n",
              "    </tr>\n",
              "    <tr>\n",
              "      <th>79</th>\n",
              "      <td>2005</td>\n",
              "      <td>1.0</td>\n",
              "      <td>I once went to this Gavi and it was fine.  Sec...</td>\n",
              "      <td>0</td>\n",
              "      <td>AZ</td>\n",
              "    </tr>\n",
              "    <tr>\n",
              "      <th>120</th>\n",
              "      <td>2005</td>\n",
              "      <td>4.0</td>\n",
              "      <td>Delicious sandwiches, great pizzas, decent sid...</td>\n",
              "      <td>0</td>\n",
              "      <td>MO</td>\n",
              "    </tr>\n",
              "    <tr>\n",
              "      <th>214</th>\n",
              "      <td>2005</td>\n",
              "      <td>3.0</td>\n",
              "      <td>Soooooooo much better than Jamba.  I heart the...</td>\n",
              "      <td>0</td>\n",
              "      <td>NV</td>\n",
              "    </tr>\n",
              "  </tbody>\n",
              "</table>\n",
              "</div>\n",
              "      <button class=\"colab-df-convert\" onclick=\"convertToInteractive('df-cc8912c0-9f80-4681-bfcf-b36c4392411d')\"\n",
              "              title=\"Convert this dataframe to an interactive table.\"\n",
              "              style=\"display:none;\">\n",
              "        \n",
              "  <svg xmlns=\"http://www.w3.org/2000/svg\" height=\"24px\"viewBox=\"0 0 24 24\"\n",
              "       width=\"24px\">\n",
              "    <path d=\"M0 0h24v24H0V0z\" fill=\"none\"/>\n",
              "    <path d=\"M18.56 5.44l.94 2.06.94-2.06 2.06-.94-2.06-.94-.94-2.06-.94 2.06-2.06.94zm-11 1L8.5 8.5l.94-2.06 2.06-.94-2.06-.94L8.5 2.5l-.94 2.06-2.06.94zm10 10l.94 2.06.94-2.06 2.06-.94-2.06-.94-.94-2.06-.94 2.06-2.06.94z\"/><path d=\"M17.41 7.96l-1.37-1.37c-.4-.4-.92-.59-1.43-.59-.52 0-1.04.2-1.43.59L10.3 9.45l-7.72 7.72c-.78.78-.78 2.05 0 2.83L4 21.41c.39.39.9.59 1.41.59.51 0 1.02-.2 1.41-.59l7.78-7.78 2.81-2.81c.8-.78.8-2.07 0-2.86zM5.41 20L4 18.59l7.72-7.72 1.47 1.35L5.41 20z\"/>\n",
              "  </svg>\n",
              "      </button>\n",
              "      \n",
              "  <style>\n",
              "    .colab-df-container {\n",
              "      display:flex;\n",
              "      flex-wrap:wrap;\n",
              "      gap: 12px;\n",
              "    }\n",
              "\n",
              "    .colab-df-convert {\n",
              "      background-color: #E8F0FE;\n",
              "      border: none;\n",
              "      border-radius: 50%;\n",
              "      cursor: pointer;\n",
              "      display: none;\n",
              "      fill: #1967D2;\n",
              "      height: 32px;\n",
              "      padding: 0 0 0 0;\n",
              "      width: 32px;\n",
              "    }\n",
              "\n",
              "    .colab-df-convert:hover {\n",
              "      background-color: #E2EBFA;\n",
              "      box-shadow: 0px 1px 2px rgba(60, 64, 67, 0.3), 0px 1px 3px 1px rgba(60, 64, 67, 0.15);\n",
              "      fill: #174EA6;\n",
              "    }\n",
              "\n",
              "    [theme=dark] .colab-df-convert {\n",
              "      background-color: #3B4455;\n",
              "      fill: #D2E3FC;\n",
              "    }\n",
              "\n",
              "    [theme=dark] .colab-df-convert:hover {\n",
              "      background-color: #434B5C;\n",
              "      box-shadow: 0px 1px 3px 1px rgba(0, 0, 0, 0.15);\n",
              "      filter: drop-shadow(0px 1px 2px rgba(0, 0, 0, 0.3));\n",
              "      fill: #FFFFFF;\n",
              "    }\n",
              "  </style>\n",
              "\n",
              "      <script>\n",
              "        const buttonEl =\n",
              "          document.querySelector('#df-cc8912c0-9f80-4681-bfcf-b36c4392411d button.colab-df-convert');\n",
              "        buttonEl.style.display =\n",
              "          google.colab.kernel.accessAllowed ? 'block' : 'none';\n",
              "\n",
              "        async function convertToInteractive(key) {\n",
              "          const element = document.querySelector('#df-cc8912c0-9f80-4681-bfcf-b36c4392411d');\n",
              "          const dataTable =\n",
              "            await google.colab.kernel.invokeFunction('convertToInteractive',\n",
              "                                                     [key], {});\n",
              "          if (!dataTable) return;\n",
              "\n",
              "          const docLinkHtml = 'Like what you see? Visit the ' +\n",
              "            '<a target=\"_blank\" href=https://colab.research.google.com/notebooks/data_table.ipynb>data table notebook</a>'\n",
              "            + ' to learn more about interactive tables.';\n",
              "          element.innerHTML = '';\n",
              "          dataTable['output_type'] = 'display_data';\n",
              "          await google.colab.output.renderOutput(dataTable, element);\n",
              "          const docLink = document.createElement('div');\n",
              "          docLink.innerHTML = docLinkHtml;\n",
              "          element.appendChild(docLink);\n",
              "        }\n",
              "      </script>\n",
              "    </div>\n",
              "  </div>\n",
              "  "
            ]
          },
          "metadata": {},
          "execution_count": 2
        }
      ]
    },
    {
      "cell_type": "markdown",
      "source": [
        "## Análise dos dados"
      ],
      "metadata": {
        "id": "TR1UV_GokPJX"
      }
    },
    {
      "cell_type": "code",
      "source": [
        "df.info()"
      ],
      "metadata": {
        "id": "PpiylBboltWS",
        "outputId": "45ca7be5-9dc7-4a9e-fcf2-fbc8b22826e5",
        "colab": {
          "base_uri": "https://localhost:8080/"
        }
      },
      "execution_count": null,
      "outputs": [
        {
          "output_type": "stream",
          "name": "stdout",
          "text": [
            "<class 'pandas.core.frame.DataFrame'>\n",
            "Int64Index: 100000 entries, 118 to 6990189\n",
            "Data columns (total 5 columns):\n",
            " #   Column       Non-Null Count   Dtype  \n",
            "---  ------       --------------   -----  \n",
            " 0   year_review  100000 non-null  int64  \n",
            " 1   stars        100000 non-null  float64\n",
            " 2   text         100000 non-null  object \n",
            " 3   useful       100000 non-null  int64  \n",
            " 4   state        100000 non-null  object \n",
            "dtypes: float64(1), int64(2), object(2)\n",
            "memory usage: 4.6+ MB\n"
          ]
        }
      ]
    },
    {
      "cell_type": "markdown",
      "source": [
        "O dataset ocupa quase 267MB de memória, e possui próximo de 7 milhões de *reviews*."
      ],
      "metadata": {
        "id": "yw4AZzuemd70"
      }
    },
    {
      "cell_type": "code",
      "source": [
        "import seaborn as sns\n",
        "import matplotlib.pyplot as plt\n",
        "\n",
        "sns.countplot(data=df, x=\"year_review\")\n",
        "plt.xticks(rotation=45);"
      ],
      "metadata": {
        "id": "VXWlC7SLkRhe",
        "outputId": "7fc31d53-c1be-4e77-d0fd-d13a485dc1eb",
        "colab": {
          "base_uri": "https://localhost:8080/",
          "height": 295
        }
      },
      "execution_count": null,
      "outputs": [
        {
          "output_type": "display_data",
          "data": {
            "text/plain": [
              "<Figure size 432x288 with 1 Axes>"
            ],
            "image/png": "[encoded data removed]"
          },
          "metadata": {
            "needs_background": "light"
          }
        }
      ]
    },
    {
      "cell_type": "markdown",
      "source": [
        "Pode-se perceber que o número de *reviews* é crescente, até o ano de 2019. Os anos de 2020 e 2021 possuem uma queda brusca. Como trata-se de *dataset* com *reviews* de negócios como restaurante e hotéis, é possível que essa redução seja em decorrência da pandemia do Covid-19. Já para o ano de 2022, uma hipótese é que o *dataset* foi coletado apenas até alguma parte do início do ano de 2022."
      ],
      "metadata": {
        "id": "vqquTVoCkoc8"
      }
    },
    {
      "cell_type": "code",
      "source": [
        "sns.countplot(data=df, x=\"state\")\n",
        "plt.xticks(rotation=45);"
      ],
      "metadata": {
        "id": "AxzJdQKllY2r",
        "outputId": "d38daa77-38ae-4ee4-c567-90bae084b85c",
        "colab": {
          "base_uri": "https://localhost:8080/",
          "height": 288
        }
      },
      "execution_count": null,
      "outputs": [
        {
          "output_type": "display_data",
          "data": {
            "text/plain": [
              "<Figure size 432x288 with 1 Axes>"
            ],
            "image/png": "[encoded data removed]"
          },
          "metadata": {
            "needs_background": "light"
          }
        }
      ]
    },
    {
      "cell_type": "markdown",
      "source": [
        "Os estados mais frequentes no *dataset* são Pensilvânia, Flórida e Louisiana. Pensilvânia corresponde a 1 milhão de *reviews*."
      ],
      "metadata": {
        "id": "_8fIG_r-l4jU"
      }
    },
    {
      "cell_type": "code",
      "source": [
        "df['text_size'] = df['text'].apply(lambda x: len(x.split(' ')))\n",
        "df.head()"
      ],
      "metadata": {
        "id": "uBsLtkhmnBI6",
        "outputId": "29bd84ad-46fe-40a8-d3b1-542f969c5d1f",
        "colab": {
          "base_uri": "https://localhost:8080/",
          "height": 206
        }
      },
      "execution_count": null,
      "outputs": [
        {
          "output_type": "execute_result",
          "data": {
            "text/plain": [
              "     year_review  stars                                               text  \\\n",
              "118         2005    3.0  A semi-successful imitation of a modern New Yo...   \n",
              "144         2005    4.0  Good stuff.  Pad C You Sen Me is always a tast...   \n",
              "155         2005    3.0  Another Reno High favorite.  Great bagel and m...   \n",
              "167         2005    2.0  Bad food, bitchy service. One of the worst exa...   \n",
              "285         2005    4.0  Some of the best versions of classic New Orlea...   \n",
              "\n",
              "     useful state  text_size  \n",
              "118       1    LA         13  \n",
              "144       1    MO         13  \n",
              "155       0    NV         28  \n",
              "167       1    LA         15  \n",
              "285       1    LA         36  "
            ],
            "text/html": [
              "\n",
              "  <div id=\"df-8cee36ec-13a5-4112-8d68-c2f64c6e1e39\">\n",
              "    <div class=\"colab-df-container\">\n",
              "      <div>\n",
              "<style scoped>\n",
              "    .dataframe tbody tr th:only-of-type {\n",
              "        vertical-align: middle;\n",
              "    }\n",
              "\n",
              "    .dataframe tbody tr th {\n",
              "        vertical-align: top;\n",
              "    }\n",
              "\n",
              "    .dataframe thead th {\n",
              "        text-align: right;\n",
              "    }\n",
              "</style>\n",
              "<table border=\"1\" class=\"dataframe\">\n",
              "  <thead>\n",
              "    <tr style=\"text-align: right;\">\n",
              "      <th></th>\n",
              "      <th>year_review</th>\n",
              "      <th>stars</th>\n",
              "      <th>text</th>\n",
              "      <th>useful</th>\n",
              "      <th>state</th>\n",
              "      <th>text_size</th>\n",
              "    </tr>\n",
              "  </thead>\n",
              "  <tbody>\n",
              "    <tr>\n",
              "      <th>118</th>\n",
              "      <td>2005</td>\n",
              "      <td>3.0</td>\n",
              "      <td>A semi-successful imitation of a modern New Yo...</td>\n",
              "      <td>1</td>\n",
              "      <td>LA</td>\n",
              "      <td>13</td>\n",
              "    </tr>\n",
              "    <tr>\n",
              "      <th>144</th>\n",
              "      <td>2005</td>\n",
              "      <td>4.0</td>\n",
              "      <td>Good stuff.  Pad C You Sen Me is always a tast...</td>\n",
              "      <td>1</td>\n",
              "      <td>MO</td>\n",
              "      <td>13</td>\n",
              "    </tr>\n",
              "    <tr>\n",
              "      <th>155</th>\n",
              "      <td>2005</td>\n",
              "      <td>3.0</td>\n",
              "      <td>Another Reno High favorite.  Great bagel and m...</td>\n",
              "      <td>0</td>\n",
              "      <td>NV</td>\n",
              "      <td>28</td>\n",
              "    </tr>\n",
              "    <tr>\n",
              "      <th>167</th>\n",
              "      <td>2005</td>\n",
              "      <td>2.0</td>\n",
              "      <td>Bad food, bitchy service. One of the worst exa...</td>\n",
              "      <td>1</td>\n",
              "      <td>LA</td>\n",
              "      <td>15</td>\n",
              "    </tr>\n",
              "    <tr>\n",
              "      <th>285</th>\n",
              "      <td>2005</td>\n",
              "      <td>4.0</td>\n",
              "      <td>Some of the best versions of classic New Orlea...</td>\n",
              "      <td>1</td>\n",
              "      <td>LA</td>\n",
              "      <td>36</td>\n",
              "    </tr>\n",
              "  </tbody>\n",
              "</table>\n",
              "</div>\n",
              "      <button class=\"colab-df-convert\" onclick=\"convertToInteractive('df-8cee36ec-13a5-4112-8d68-c2f64c6e1e39')\"\n",
              "              title=\"Convert this dataframe to an interactive table.\"\n",
              "              style=\"display:none;\">\n",
              "        \n",
              "  <svg xmlns=\"http://www.w3.org/2000/svg\" height=\"24px\"viewBox=\"0 0 24 24\"\n",
              "       width=\"24px\">\n",
              "    <path d=\"M0 0h24v24H0V0z\" fill=\"none\"/>\n",
              "    <path d=\"M18.56 5.44l.94 2.06.94-2.06 2.06-.94-2.06-.94-.94-2.06-.94 2.06-2.06.94zm-11 1L8.5 8.5l.94-2.06 2.06-.94-2.06-.94L8.5 2.5l-.94 2.06-2.06.94zm10 10l.94 2.06.94-2.06 2.06-.94-2.06-.94-.94-2.06-.94 2.06-2.06.94z\"/><path d=\"M17.41 7.96l-1.37-1.37c-.4-.4-.92-.59-1.43-.59-.52 0-1.04.2-1.43.59L10.3 9.45l-7.72 7.72c-.78.78-.78 2.05 0 2.83L4 21.41c.39.39.9.59 1.41.59.51 0 1.02-.2 1.41-.59l7.78-7.78 2.81-2.81c.8-.78.8-2.07 0-2.86zM5.41 20L4 18.59l7.72-7.72 1.47 1.35L5.41 20z\"/>\n",
              "  </svg>\n",
              "      </button>\n",
              "      \n",
              "  <style>\n",
              "    .colab-df-container {\n",
              "      display:flex;\n",
              "      flex-wrap:wrap;\n",
              "      gap: 12px;\n",
              "    }\n",
              "\n",
              "    .colab-df-convert {\n",
              "      background-color: #E8F0FE;\n",
              "      border: none;\n",
              "      border-radius: 50%;\n",
              "      cursor: pointer;\n",
              "      display: none;\n",
              "      fill: #1967D2;\n",
              "      height: 32px;\n",
              "      padding: 0 0 0 0;\n",
              "      width: 32px;\n",
              "    }\n",
              "\n",
              "    .colab-df-convert:hover {\n",
              "      background-color: #E2EBFA;\n",
              "      box-shadow: 0px 1px 2px rgba(60, 64, 67, 0.3), 0px 1px 3px 1px rgba(60, 64, 67, 0.15);\n",
              "      fill: #174EA6;\n",
              "    }\n",
              "\n",
              "    [theme=dark] .colab-df-convert {\n",
              "      background-color: #3B4455;\n",
              "      fill: #D2E3FC;\n",
              "    }\n",
              "\n",
              "    [theme=dark] .colab-df-convert:hover {\n",
              "      background-color: #434B5C;\n",
              "      box-shadow: 0px 1px 3px 1px rgba(0, 0, 0, 0.15);\n",
              "      filter: drop-shadow(0px 1px 2px rgba(0, 0, 0, 0.3));\n",
              "      fill: #FFFFFF;\n",
              "    }\n",
              "  </style>\n",
              "\n",
              "      <script>\n",
              "        const buttonEl =\n",
              "          document.querySelector('#df-8cee36ec-13a5-4112-8d68-c2f64c6e1e39 button.colab-df-convert');\n",
              "        buttonEl.style.display =\n",
              "          google.colab.kernel.accessAllowed ? 'block' : 'none';\n",
              "\n",
              "        async function convertToInteractive(key) {\n",
              "          const element = document.querySelector('#df-8cee36ec-13a5-4112-8d68-c2f64c6e1e39');\n",
              "          const dataTable =\n",
              "            await google.colab.kernel.invokeFunction('convertToInteractive',\n",
              "                                                     [key], {});\n",
              "          if (!dataTable) return;\n",
              "\n",
              "          const docLinkHtml = 'Like what you see? Visit the ' +\n",
              "            '<a target=\"_blank\" href=https://colab.research.google.com/notebooks/data_table.ipynb>data table notebook</a>'\n",
              "            + ' to learn more about interactive tables.';\n",
              "          element.innerHTML = '';\n",
              "          dataTable['output_type'] = 'display_data';\n",
              "          await google.colab.output.renderOutput(dataTable, element);\n",
              "          const docLink = document.createElement('div');\n",
              "          docLink.innerHTML = docLinkHtml;\n",
              "          element.appendChild(docLink);\n",
              "        }\n",
              "      </script>\n",
              "    </div>\n",
              "  </div>\n",
              "  "
            ]
          },
          "metadata": {},
          "execution_count": 6
        }
      ]
    },
    {
      "cell_type": "code",
      "source": [
        "df.groupby(by=['year_review']).agg({'text_size': 'mean'}).plot(kind='bar')"
      ],
      "metadata": {
        "id": "jnhriVMFoYJ7",
        "outputId": "277d1665-0634-417c-ddb2-2f2420598ff9",
        "colab": {
          "base_uri": "https://localhost:8080/",
          "height": 313
        }
      },
      "execution_count": null,
      "outputs": [
        {
          "output_type": "execute_result",
          "data": {
            "text/plain": [
              "<matplotlib.axes._subplots.AxesSubplot at 0x7f2417a085d0>"
            ]
          },
          "metadata": {},
          "execution_count": 7
        },
        {
          "output_type": "display_data",
          "data": {
            "text/plain": [
              "<Figure size 432x288 with 1 Axes>"
            ],
            "image/png": "[encoded data removed]"
          },
          "metadata": {
            "needs_background": "light"
          }
        }
      ]
    },
    {
      "cell_type": "code",
      "source": [
        "df.groupby(by=['year_review']).agg({'stars': 'mean'}).plot(kind='line')"
      ],
      "metadata": {
        "id": "sQuu0AJYp5-7",
        "outputId": "a5cc7150-94b9-4390-a78d-31a28ef41359",
        "colab": {
          "base_uri": "https://localhost:8080/",
          "height": 297
        }
      },
      "execution_count": null,
      "outputs": [
        {
          "output_type": "execute_result",
          "data": {
            "text/plain": [
              "<matplotlib.axes._subplots.AxesSubplot at 0x7f241fe7ac50>"
            ]
          },
          "metadata": {},
          "execution_count": 8
        },
        {
          "output_type": "display_data",
          "data": {
            "text/plain": [
              "<Figure size 432x288 with 1 Axes>"
            ],
            "image/png": "[encoded data removed]"
          },
          "metadata": {
            "needs_background": "light"
          }
        }
      ]
    },
    {
      "cell_type": "markdown",
      "source": [
        "## Tratamento dos dados"
      ],
      "metadata": {
        "id": "-Y-NAksXczuz"
      }
    },
    {
      "cell_type": "markdown",
      "source": [
        "Como os textos são em idioma inglês, não há a necessidade de remoção de acentos. No entanto, um tratamento a ser feito é a transformação para minúsculo, e a exclusão de números. A exclusão de números se deve ao fato de reduzir as dimensões da representação em Bag-of-Words."
      ],
      "metadata": {
        "id": "T2G34BCmdiSC"
      }
    },
    {
      "cell_type": "code",
      "source": [
        "def remove_numbers(x):\n",
        "    return ''.join(i for i in x.lower() if not i.isdigit())"
      ],
      "metadata": {
        "id": "mPfmJGIvfeq0"
      },
      "execution_count": null,
      "outputs": []
    },
    {
      "cell_type": "code",
      "source": [
        "df['text'] = df['text'].apply(remove_numbers)"
      ],
      "metadata": {
        "id": "i2ltKzoAc6my"
      },
      "execution_count": null,
      "outputs": []
    },
    {
      "cell_type": "markdown",
      "source": [
        "Neste trecho, a ideia era fazer um Bag-of-Words. No entanto, ao fazer a conversão para arrays do numpy usando .todense(), dava estouro de memória. Após algumas pesquisas na internet, encontrei o HashingVectorizer, que não mantém vocabulário e gera um vetor para representar o documento. Ainda, foi limitado o tamanho do vetor de representação em 300. Aqui também foram removidas as *stopwords*."
      ],
      "metadata": {
        "id": "RiLRUHR590nO"
      }
    },
    {
      "cell_type": "code",
      "source": [
        "from sklearn.feature_extraction.text import CountVectorizer, HashingVectorizer\n",
        "\n",
        "cv = HashingVectorizer(stop_words='english', n_features=300)\n",
        "X = cv.fit_transform(df['text'].values)\n",
        "Y = df['stars'].values"
      ],
      "metadata": {
        "id": "HMgISV0bmfTC"
      },
      "execution_count": null,
      "outputs": []
    },
    {
      "cell_type": "markdown",
      "source": [
        "Aqui, foi realizada a divisão 70/30, ou seja: 70% dos dados pra treino e 30% para teste. \n",
        "\n",
        "Além disso, foi aplicado o PCA para reduzir a dimensionalidade dos dados, mantendo 90% da variância explicada. Com isso, as 300 dimensões geradas pelo HashingVectorizer foram reduzidas a 225. Uma redução em **25% nas dimensões.**"
      ],
      "metadata": {
        "id": "jB_o7f9ED2by"
      }
    },
    {
      "cell_type": "code",
      "source": [
        "from sklearn.model_selection import train_test_split\n",
        "\n",
        "x_treino, x_teste, y_treino, y_teste = train_test_split(X, Y, shuffle=False, test_size=.3, random_state=42)"
      ],
      "metadata": {
        "id": "zt9WrwZhZEQV"
      },
      "execution_count": null,
      "outputs": []
    },
    {
      "cell_type": "code",
      "source": [
        "from sklearn.decomposition import PCA\n",
        "\n",
        "pca = PCA(n_components=.9)\n",
        "x_treino = pca.fit_transform(x_treino.todense())\n",
        "x_teste = pca.transform(x_teste.todense())"
      ],
      "metadata": {
        "colab": {
          "base_uri": "https://localhost:8080/"
        },
        "id": "cmxKilyZYy49",
        "outputId": "a94a3d61-795f-4f81-9a12-0e300a681fc2"
      },
      "execution_count": null,
      "outputs": [
        {
          "output_type": "stream",
          "name": "stderr",
          "text": [
            "/usr/local/lib/python3.7/dist-packages/sklearn/utils/validation.py:598: FutureWarning: np.matrix usage is deprecated in 1.0 and will raise a TypeError in 1.2. Please convert to a numpy array with np.asarray. For more information see: https://numpy.org/doc/stable/reference/generated/numpy.matrix.html\n",
            "  FutureWarning,\n",
            "/usr/local/lib/python3.7/dist-packages/sklearn/utils/validation.py:598: FutureWarning: np.matrix usage is deprecated in 1.0 and will raise a TypeError in 1.2. Please convert to a numpy array with np.asarray. For more information see: https://numpy.org/doc/stable/reference/generated/numpy.matrix.html\n",
            "  FutureWarning,\n"
          ]
        }
      ]
    },
    {
      "cell_type": "code",
      "source": [
        "pca.n_components_"
      ],
      "metadata": {
        "colab": {
          "base_uri": "https://localhost:8080/"
        },
        "id": "NbQ1gQvZ-Pyx",
        "outputId": "c177d5d0-078d-462d-8a6d-97c615d331ed"
      },
      "execution_count": null,
      "outputs": [
        {
          "output_type": "execute_result",
          "data": {
            "text/plain": [
              "225"
            ]
          },
          "metadata": {},
          "execution_count": 16
        }
      ]
    },
    {
      "cell_type": "markdown",
      "source": [
        "## Aplicação de Aprendizado de Máquina (SVM)"
      ],
      "metadata": {
        "id": "veZnOV65O-8y"
      }
    },
    {
      "cell_type": "markdown",
      "source": [
        "Aqui foi realizado o treinamento com o SupportVectorClassifier, com os parâmetros padrão (C=1.0, kernel='rbf'). Com 100 mil dados, demorou cerca de 1h para o treino do modelo."
      ],
      "metadata": {
        "id": "w3D21jwJFyOB"
      }
    },
    {
      "cell_type": "code",
      "source": [
        "from sklearn.svm import SVC\n",
        "\n",
        "svc = SVC()\n",
        "svc.fit(x_treino, y_treino)"
      ],
      "metadata": {
        "id": "5Wx71TLUc1Ur",
        "colab": {
          "base_uri": "https://localhost:8080/"
        },
        "outputId": "b9f28094-cfb8-40be-f457-4645723cb2bb"
      },
      "execution_count": null,
      "outputs": [
        {
          "output_type": "execute_result",
          "data": {
            "text/plain": [
              "SVC()"
            ]
          },
          "metadata": {},
          "execution_count": 14
        }
      ]
    },
    {
      "cell_type": "markdown",
      "source": [
        "O teste foi realizado com 30% dos dados. A avaliação foi feita, conforme definido no cabeçalho, com as métricas: Acurácia, F1, e Cohen's Kappa. Foi utilizada também uma matriz de confusão para visualizar os erros do classificador."
      ],
      "metadata": {
        "id": "DQFMFGmUIt3_"
      }
    },
    {
      "cell_type": "code",
      "source": [
        "from sklearn.metrics import accuracy_score, f1_score, cohen_kappa_score, classification_report, ConfusionMatrixDisplay\n",
        "\n",
        "predictions = svc.predict(x_teste)\n",
        "print(\"Acurácia\", accuracy_score(y_teste, predictions))\n",
        "print(\"F1\", f1_score(y_teste, predictions, average=\"micro\"))\n",
        "print(\"Cohen's Kappa\", cohen_kappa_score(y_teste, predictions))\n",
        "print(classification_report(y_teste, predictions))\n",
        "ConfusionMatrixDisplay.from_predictions(y_teste, predictions)"
      ],
      "metadata": {
        "colab": {
          "base_uri": "https://localhost:8080/",
          "height": 557
        },
        "id": "3fyyeS7EleZc",
        "outputId": "9cf49cc5-f20f-4fac-d40c-f868720da0ec"
      },
      "execution_count": null,
      "outputs": [
        {
          "output_type": "stream",
          "name": "stdout",
          "text": [
            "0.6438666666666667\n",
            "0.6438666666666667\n",
            "0.42105216042590443\n",
            "              precision    recall  f1-score   support\n",
            "\n",
            "         1.0       0.65      0.70      0.67      5633\n",
            "         2.0       0.31      0.11      0.16      2033\n",
            "         3.0       0.35      0.13      0.19      2185\n",
            "         4.0       0.35      0.32      0.34      4308\n",
            "         5.0       0.73      0.85      0.79     15841\n",
            "\n",
            "    accuracy                           0.64     30000\n",
            "   macro avg       0.48      0.42      0.43     30000\n",
            "weighted avg       0.61      0.64      0.62     30000\n",
            "\n"
          ]
        },
        {
          "output_type": "execute_result",
          "data": {
            "text/plain": [
              "<sklearn.metrics._plot.confusion_matrix.ConfusionMatrixDisplay at 0x7f242af8b0d0>"
            ]
          },
          "metadata": {},
          "execution_count": 15
        },
        {
          "output_type": "display_data",
          "data": {
            "text/plain": [
              "<Figure size 432x288 with 2 Axes>"
            ],
            "image/png": "[encoded data removed]"
          },
          "metadata": {
            "needs_background": "light"
          }
        }
      ]
    },
    {
      "cell_type": "markdown",
      "source": [
        "O Classificador atingiu uma **acurácia de 64%**, mesmo valor obtido para F1-score, o que não é um resultado ruim, visto a dificuldade de avaliar a subjetividade da escrita. Além disso, como se trata de uma classificação multiclasse, um classificador aleatório teria acurácia teórica de 20% apenas, considerando 5 classes.\n",
        "\n",
        "No entanto, vemos que o índice Kappa é de apenas 42%, considerado uma concordância moderada.\n",
        "\n",
        "![image.png](data:image/png;base64,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)"
      ],
      "metadata": {
        "id": "jWCDlvi6KL64"
      }
    },
    {
      "cell_type": "markdown",
      "source": [
        "Avaliando a matrix de confusão, pode-se perceber que o classificador tende a detectar melhor os padrões que levam à nota 1 e nota 5. Ou seja, os extremos. No entando, no que tange as notas 2, 3, e 4, é uma zona cinzenta mesmo pra humanos, pois é subjetivo. Nota 1 e 2 ou entre 4 e 5 tem uma nuance pequena e subjetiva. \n",
        "\n",
        "Além disso, complementando a informação acima, pode ser notada uma confusão entre as notas 4 e 5, por parte do classificador."
      ],
      "metadata": {
        "id": "RxISTaGsO8aB"
      }
    },
    {
      "cell_type": "markdown",
      "source": [
        "## Aplicação de *Deep Learning*"
      ],
      "metadata": {
        "id": "Rar-QOvrQsbN"
      }
    },
    {
      "cell_type": "markdown",
      "source": [
        "Importando as bibliotecas"
      ],
      "metadata": {
        "id": "0jKEQtqwqYhS"
      }
    },
    {
      "cell_type": "code",
      "source": [
        "from keras.preprocessing.text import Tokenizer\n",
        "from keras.preprocessing.sequence import pad_sequences\n",
        "from keras.models import Sequential\n",
        "from keras.layers import Dense, Embedding, LSTM, SpatialDropout1D\n",
        "from keras.callbacks import EarlyStopping\n"
      ],
      "metadata": {
        "id": "RK3f-IggQ40J"
      },
      "execution_count": null,
      "outputs": []
    },
    {
      "cell_type": "markdown",
      "source": [
        "Realizando o tratamento dos dados"
      ],
      "metadata": {
        "id": "QMgWAQQnqanj"
      }
    },
    {
      "cell_type": "code",
      "source": [
        "tokenizer = Tokenizer(num_words=50000, filters='!\"#$%&()*+,-./:;<=>?@[\\]^_`{|}~', lower=True)\n",
        "tokenizer.fit_on_texts(df['text'].values)\n",
        "X = tokenizer.texts_to_sequences(df['text'].values)\n",
        "X = pad_sequences(X, maxlen=300)"
      ],
      "metadata": {
        "id": "6gkk5vuoTL7J"
      },
      "execution_count": null,
      "outputs": []
    },
    {
      "cell_type": "markdown",
      "source": [
        "**Definindo a estrutura da rede neural**\n",
        "\n",
        "Foi considerado uma camada de Embedding, pra converter texto em representações vetoriais, uma camada de dropout para reduzir a chance de overfitting, uma camada com 100 LSTMs, com dropout interno e externo, e uma camada de saída densa de tamanho 5, considerando o número de estrelas."
      ],
      "metadata": {
        "id": "QZjkoxZ4qfOA"
      }
    },
    {
      "cell_type": "code",
      "source": [
        "model = Sequential()\n",
        "model.add(Embedding(50000, 300, input_length=X.shape[1]))\n",
        "model.add(SpatialDropout1D(0.2))\n",
        "model.add(LSTM(100, dropout=0.2, recurrent_dropout=0.2))\n",
        "model.add(Dense(5, activation='softmax'))\n",
        "model.compile(loss='categorical_crossentropy', optimizer='adam', metrics=['accuracy'])"
      ],
      "metadata": {
        "colab": {
          "base_uri": "https://localhost:8080/"
        },
        "id": "xhkoUD_WTOFC",
        "outputId": "923b1aaa-0941-4b25-9006-70aafeafcebe"
      },
      "execution_count": null,
      "outputs": [
        {
          "output_type": "stream",
          "name": "stderr",
          "text": [
            "WARNING:tensorflow:Layer lstm_1 will not use cuDNN kernels since it doesn't meet the criteria. It will use a generic GPU kernel as fallback when running on GPU.\n"
          ]
        }
      ]
    },
    {
      "cell_type": "markdown",
      "source": [
        "### Visualização da arquitetura da rede neural deep."
      ],
      "metadata": {
        "id": "KimrD-k6rrCf"
      }
    },
    {
      "cell_type": "code",
      "source": [
        "from keras.utils.vis_utils import plot_model\n",
        "\n",
        "plot_model(model, to_file='model_plot.png', show_shapes=True, show_layer_names=True)"
      ],
      "metadata": {
        "colab": {
          "base_uri": "https://localhost:8080/",
          "height": 533
        },
        "id": "h_tJBjxirjXd",
        "outputId": "70c74c2e-5f0d-4b7e-8944-6b3816fcf642"
      },
      "execution_count": null,
      "outputs": [
        {
          "output_type": "execute_result",
          "data": {
            "image/png": "[encoded data removed]",
            "text/plain": [
              "<IPython.core.display.Image object>"
            ]
          },
          "metadata": {},
          "execution_count": 30
        }
      ]
    },
    {
      "cell_type": "markdown",
      "source": [
        "Foi realizada também a divisão em 70/30, como no SVM."
      ],
      "metadata": {
        "id": "oaXcFPVwq81D"
      }
    },
    {
      "cell_type": "code",
      "source": [
        "Y = pd.get_dummies(df['stars']).values"
      ],
      "metadata": {
        "id": "LhCIK5rBTVEX"
      },
      "execution_count": null,
      "outputs": []
    },
    {
      "cell_type": "code",
      "source": [
        "from sklearn.model_selection import train_test_split\n",
        "\n",
        "x_treino, x_teste, y_treino, y_teste = train_test_split(X, Y, test_size=.3, random_state=42)"
      ],
      "metadata": {
        "id": "UCtcQO-qTYuT"
      },
      "execution_count": null,
      "outputs": []
    },
    {
      "cell_type": "markdown",
      "source": [
        "Confirmação do ambiente utilizando GPU para acelerar o treinamento."
      ],
      "metadata": {
        "id": "XVjb4PkvrCne"
      }
    },
    {
      "cell_type": "code",
      "source": [
        "import tensorflow as tf\n",
        "tf.test.gpu_device_name()"
      ],
      "metadata": {
        "colab": {
          "base_uri": "https://localhost:8080/",
          "height": 35
        },
        "id": "Mvb4Xqp4X49V",
        "outputId": "e73ede37-9770-4985-f7a8-5f4089254878"
      },
      "execution_count": null,
      "outputs": [
        {
          "output_type": "execute_result",
          "data": {
            "text/plain": [
              "'/device:GPU:0'"
            ],
            "application/vnd.google.colaboratory.intrinsic+json": {
              "type": "string"
            }
          },
          "metadata": {},
          "execution_count": 10
        }
      ]
    },
    {
      "cell_type": "markdown",
      "source": [
        "Treinamento da Rede Neural *deep*, definida acima."
      ],
      "metadata": {
        "id": "AKVr8C16sYVr"
      }
    },
    {
      "cell_type": "code",
      "source": [
        "hist = model.fit(x_treino, y_treino, epochs=10, batch_size=512, validation_split=.1,\n",
        "                 callbacks=[EarlyStopping(monitor='val_loss', patience=3)])"
      ],
      "metadata": {
        "colab": {
          "base_uri": "https://localhost:8080/"
        },
        "id": "m1mywXz7Vq2a",
        "outputId": "71be40ee-d186-47bd-82c0-d09990a3c8c0"
      },
      "execution_count": null,
      "outputs": [
        {
          "output_type": "stream",
          "name": "stdout",
          "text": [
            "Epoch 1/10\n",
            "124/124 [==============================] - 139s 1s/step - loss: 0.4399 - accuracy: 0.8327 - val_loss: 1.0683 - val_accuracy: 0.6126\n",
            "Epoch 2/10\n",
            "124/124 [==============================] - 139s 1s/step - loss: 0.3754 - accuracy: 0.8588 - val_loss: 1.0794 - val_accuracy: 0.6249\n",
            "Epoch 3/10\n",
            "124/124 [==============================] - 139s 1s/step - loss: 0.3335 - accuracy: 0.8768 - val_loss: 1.1562 - val_accuracy: 0.6223\n",
            "Epoch 4/10\n",
            "124/124 [==============================] - 138s 1s/step - loss: 0.2959 - accuracy: 0.8938 - val_loss: 1.3042 - val_accuracy: 0.6309\n"
          ]
        }
      ]
    },
    {
      "cell_type": "markdown",
      "source": [
        "Realizando o teste."
      ],
      "metadata": {
        "id": "CCase4s-sgq7"
      }
    },
    {
      "cell_type": "code",
      "source": [
        "import numpy as np\n",
        "\n",
        "padded = pad_sequences(x_teste, maxlen=300)\n",
        "pred = model.predict(padded)\n",
        "print(pred, np.argmax(pred, axis=1))"
      ],
      "metadata": {
        "colab": {
          "base_uri": "https://localhost:8080/"
        },
        "id": "YLwv-Ntbnw2A",
        "outputId": "fcaec641-c0c9-4fab-903f-bc430b102504"
      },
      "execution_count": null,
      "outputs": [
        {
          "output_type": "stream",
          "name": "stdout",
          "text": [
            "[[1.02970034e-05 5.51871017e-06 1.81146563e-04 4.04499806e-02\n",
            "  9.59353030e-01]\n",
            " [7.99662230e-05 1.12937276e-04 7.10840756e-03 2.45027646e-01\n",
            "  7.47671068e-01]\n",
            " [2.65603159e-02 6.43810555e-02 4.42531466e-01 4.23103452e-01\n",
            "  4.34236750e-02]\n",
            " ...\n",
            " [7.44566381e-01 1.90893948e-01 3.44856828e-02 1.04619358e-02\n",
            "  1.95920672e-02]\n",
            " [3.45703029e-06 8.65394043e-07 1.70334406e-05 3.62995616e-03\n",
            "  9.96348619e-01]\n",
            " [2.00228969e-05 1.32421104e-04 4.34673298e-03 9.70515132e-01\n",
            "  2.49855835e-02]] [4 4 2 ... 0 4 3]\n"
          ]
        }
      ]
    },
    {
      "cell_type": "markdown",
      "source": [
        "Avaliação em termos de Accuracy, F1, e Cohen's Kappa."
      ],
      "metadata": {
        "id": "EmR2d1xAskkb"
      }
    },
    {
      "cell_type": "code",
      "source": [
        "from sklearn.metrics import accuracy_score, f1_score, cohen_kappa_score, classification_report, ConfusionMatrixDisplay\n",
        "\n",
        "y_test = np.argmax(y_teste, axis=1) + 1\n",
        "y_pred = np.argmax(pred, axis=1) + 1\n",
        "\n",
        "print(\"Acurácia\", accuracy_score(y_test, y_pred))\n",
        "print(\"F1\", f1_score(y_test, y_pred, average=\"micro\"))\n",
        "print(\"Cohen's Kappa\", cohen_kappa_score(y_test, y_pred))\n",
        "print(classification_report(y_test, y_pred))\n",
        "ConfusionMatrixDisplay.from_predictions(y_test, y_pred)"
      ],
      "metadata": {
        "colab": {
          "base_uri": "https://localhost:8080/",
          "height": 557
        },
        "id": "C-VCFGqFpnf7",
        "outputId": "75af0d9d-7091-4250-baf4-b9d795d8db37"
      },
      "execution_count": null,
      "outputs": [
        {
          "output_type": "stream",
          "name": "stdout",
          "text": [
            "Acurácia 0.6419333333333334\n",
            "F1 0.6419333333333334\n",
            "Cohen's Kappa 0.4853405181155547\n",
            "              precision    recall  f1-score   support\n",
            "\n",
            "           1       0.69      0.82      0.75      4523\n",
            "           2       0.37      0.28      0.32      2387\n",
            "           3       0.40      0.37      0.38      2987\n",
            "           4       0.45      0.40      0.43      6164\n",
            "           5       0.78      0.81      0.79     13939\n",
            "\n",
            "    accuracy                           0.64     30000\n",
            "   macro avg       0.54      0.54      0.53     30000\n",
            "weighted avg       0.63      0.64      0.63     30000\n",
            "\n"
          ]
        },
        {
          "output_type": "execute_result",
          "data": {
            "text/plain": [
              "<sklearn.metrics._plot.confusion_matrix.ConfusionMatrixDisplay at 0x7fb304f3a090>"
            ]
          },
          "metadata": {},
          "execution_count": 34
        },
        {
          "output_type": "display_data",
          "data": {
            "text/plain": [
              "<Figure size 432x288 with 2 Axes>"
            ],
            "image/png": "[encoded data removed]"
          },
          "metadata": {
            "needs_background": "light"
          }
        }
      ]
    },
    {
      "cell_type": "markdown",
      "source": [
        "Analisando os resultados obtidos pela Rede Neural *deep*, a acurácia e o *F1-score* obtida foi muito próxima à obtida pelo SVM. No entanto, o Cohen's Kappa é ligeiramente maior, acusando uma maior concordância da rede neural.\n",
        "\n",
        "Pode ser ainda percebido a confusão entre notas 4 e 5 por parte do classificador. "
      ],
      "metadata": {
        "id": "iiP4lkFtsrvT"
      }
    },
    {
      "cell_type": "markdown",
      "source": [
        "## Conclusão"
      ],
      "metadata": {
        "id": "4JSdeQ8NypWU"
      }
    },
    {
      "cell_type": "markdown",
      "source": [
        "É possível o uso de SVM e Redes Neurais *deep* para classificação de textos. Nos testes realizados neste trabalho, SVM e Redes Neurais alcançaram acurácia de 64%. Embora a acurácia e o F1 de ambos tenha sido comparável, por se tratar de uma classificação multiclasse, foi utilizado também o Cohen's Kappa. O Cohen's Kappa da Rede Neural foi ligeiramente superior (48 a 42, quase 9% superior), indicando uma maior concordância na rede neural.\n",
        "\n",
        "Ainda, embora não registrado no notebook, o tempo realizado para treinamento do SVM beirou 1 hora, enquanto a rede neural, com auxílio de GPU, realizou o treinamento em cerca de 20 minutos. Esse valor mostra o benefício do uso de GPU e ainda, que a rede neural tem um melhor custo-benefício, quando utilizando GPU, e ainda em termos de performance de classificação."
      ],
      "metadata": {
        "id": "qPlwAJFtysnN"
      }
    }
  ]
}